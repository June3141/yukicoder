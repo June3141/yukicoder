{
 "cells": [
  {
   "cell_type": "code",
   "execution_count": null,
   "metadata": {},
   "outputs": [],
   "source": [
    "import sys\n",
    "input = sys.stdin.readline\n",
    "\n",
    "Q = int(input())\n",
    "n = [int(input()) for i in range(Q)]\n",
    "\n",
    "n_max = max(n)\n",
    "T = [0 for i in range(n_max)]\n",
    "\n",
    "if n_max >= 4:\n",
    "    T[3] = 1\n",
    "\n",
    "    for i in range(4, n_max):\n",
    "        T[i] = (T[i - 1] + T[i - 2] + T[i - 3] + T[i - 4]) % 17\n",
    "\n",
    "for i in range(Q):\n",
    "    print(T[n[i] - 1])"
   ]
  }
 ],
 "metadata": {
  "kernelspec": {
   "display_name": "Python 3",
   "language": "python",
   "name": "python3"
  },
  "language_info": {
   "codemirror_mode": {
    "name": "ipython",
    "version": 3
   },
   "file_extension": ".py",
   "mimetype": "text/x-python",
   "name": "python",
   "nbconvert_exporter": "python",
   "pygments_lexer": "ipython3",
   "version": "3.6.6"
  }
 },
 "nbformat": 4,
 "nbformat_minor": 2
}
